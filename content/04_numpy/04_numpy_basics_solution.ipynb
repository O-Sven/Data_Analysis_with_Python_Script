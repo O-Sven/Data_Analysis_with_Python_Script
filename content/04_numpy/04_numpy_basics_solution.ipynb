{
 "cells": [
  {
   "cell_type": "markdown",
   "metadata": {},
   "source": [
    "<div style=\"width: 100%; overflow: hidden;\">\n",
    "    <div style=\"width: 500px; float: left;\"> \n",
    "        <h1>Data Analysis with Python</h1> <br>\n",
    "        <b>Winter Semester 2018/2019</b><br>\n",
    "        <b>Lukas Arnold and Max Böhler</b>\n",
    "    </div>\n",
    "    <div style=\"float:right;\"> \n",
    "        <img src=\"images/fzj_logo.png\" style=\"width:150px;\"/>\n",
    "        <img src=\"images/buw_logo.png\" style=\"width:150px;\"/>\n",
    "    </div>\n",
    "</div>"
   ]
  },
  {
   "cell_type": "markdown",
   "metadata": {},
   "source": [
    "_NumPy_ is the fundamental package for scientific computing with Python when it comes to large, multidimensional arrays (vectors) and matrices.  \n",
    "<br>\n",
    "In addition to the fast computation of _NumPy_ arrays (way more faster than Python Lists), the main benefit lies in the included mathematical operations like shape manipulation, sorting, selecting, I/O, basic linear algebra, basic statistical operations, random simulation and so on.\n",
    "One should hold in mind that _NumPy_ arrays are not as flexible as Python Lists. While the latter one could store different data types in one list, each _NumPy_ array only stores values of the same data type!\n",
    "\n",
    "Examples and more detailed instructions how to use _numpy_ can be found here:\n",
    "http://www.numpy.org/\n",
    "<br>\n",
    "<br>\n",
    "_Note: If numpy is not yet installed on your system, open the Anaconda prompt (or terminal on Unix systems) and type:_\n",
    "\n",
    "`conda install numpy`\n"
   ]
  },
  {
   "cell_type": "code",
   "execution_count": null,
   "metadata": {},
   "outputs": [],
   "source": [
    "# This small Script shows how fast a NumPy Array in comparison to a Python List is.\n",
    "# Execute this script by pushing Shift+Enter\n",
    "\n",
    "import time\n",
    "import numpy as np\n",
    "import sys\n",
    "\n",
    "size_of_vec = 1000000\n",
    "\n",
    "def pure_python_version():\n",
    "    t1 = time.time()\n",
    "    X = range(size_of_vec)\n",
    "    Y = range(size_of_vec)\n",
    "    Z = [X[i] + Y[i] for i in range(len(X)) ]\n",
    "    return time.time() - t1, Z\n",
    "\n",
    "def numpy_version():\n",
    "    t1 = time.time()\n",
    "    X = np.arange(size_of_vec)\n",
    "    Y = np.arange(size_of_vec)\n",
    "    Z = X + Y\n",
    "    return time.time() - t1, Z\n",
    "\n",
    "\n",
    "t1,py_list = pure_python_version()\n",
    "t2,np_array = numpy_version()\n",
    "\n",
    "list_mem = sys.getsizeof(py_list)/1000\n",
    "array_mem = sys.getsizeof(np_array)/1000\n",
    "\n",
    "print(\"Computational time for Python List: {} s and the object (memory) size: {} kB\".format(t1,list_mem))\n",
    "print(\"Computational time for Numpy Array: {} s and the object (memory) size: {} kB\".format(t2,array_mem))\n",
    "\n",
    "print(\"\\nTherefore the numpy array is {:.4f} times faster!\".format(t1/t2))\n"
   ]
  },
  {
   "cell_type": "markdown",
   "metadata": {},
   "source": [
    "### Array/Matrix indexing\n",
    "\n",
    "Single element indexing for a 1-D works exactly like indexing for Python-Lists. It is 0-based, and accepts negative indices for indexing from the end of the array."
   ]
  },
  {
   "cell_type": "code",
   "execution_count": null,
   "metadata": {},
   "outputs": [],
   "source": [
    "# Example\n",
    "\n",
    "# Different routines for the creation of NumPy 1-D arrays:\n",
    "array_1 = np.array([1.0, 2.0, 3.0]) # Simple 1D array \n",
    "array_2 = np.zeros(10) # Create an array with 10 elements with value 0\n",
    "array_3 = np.arange(20.0) # Create an array from 0 to 19\n",
    "array_4 = np.linspace(0,20,11) # Creates a evenly spaced array from 0 to 20 with 11 elements\n",
    "\n",
    "print(array_1[-1]) # Print the last element of array_1\n",
    "print(array_3) # Print all elements of array_3\n",
    "print(array_4[array_4>10]) # Print all elements of array_4 which are bigger than 10"
   ]
  },
  {
   "cell_type": "markdown",
   "metadata": {},
   "source": [
    "2-D array indexing works in a similar way."
   ]
  },
  {
   "cell_type": "code",
   "execution_count": null,
   "metadata": {},
   "outputs": [],
   "source": [
    "# Example\n",
    "\n",
    "array_2D = np.array([[1, 2, 3], [4, 5, 6]]) # create a 2D array (= 2x3 matrix)\n",
    "\n",
    "print(array_2D[1,2]) # print element in row 1 column 2"
   ]
  },
  {
   "cell_type": "markdown",
   "metadata": {},
   "source": [
    "It is also possible to slice (accessing more than one element) numpy arrays."
   ]
  },
  {
   "cell_type": "code",
   "execution_count": null,
   "metadata": {},
   "outputs": [],
   "source": [
    "# Example\n",
    "\n",
    "# Create a more complex Matrix\n",
    "\n",
    "# First initalize Matrix\n",
    "x = np.zeros(shape=(10,10)) # create a 10x10 zero-matrix\n",
    "\n",
    "# Get the shape (number of rows/columns)\n",
    "rows = x.shape[0]\n",
    "columns = x.shape[1]\n",
    "\n",
    "counter = 1\n",
    "\n",
    "# Loop through each row/column\n",
    "for i in range(0,rows):\n",
    "    for j in range(0,columns):\n",
    "        x[i,j] = counter\n",
    "        counter = counter + 1\n",
    "\n",
    "#Array Slicing\n",
    "print(x[0,:]) # Print the first row of matrix x (using : as symbol for all elements in this row)\n",
    "print(x[0,5:]) # Print the first row starting from column 5\n",
    "print(x[:,3]) # Print all elements of column 3"
   ]
  },
  {
   "cell_type": "markdown",
   "metadata": {},
   "source": [
    "### numpy.loadtxt\n",
    "The NumPy routine _loadtxt_ is a convenient way to load data from a ASCII formatted file into a numpy array.\n",
    "In combination with _matplotlib_ and array slicing it is also a fast way to plot data."
   ]
  },
  {
   "cell_type": "code",
   "execution_count": null,
   "metadata": {},
   "outputs": [],
   "source": [
    "# example\n",
    "# For this example, it is necassary to download the 'simple_data.csv' file from moodle!\n",
    "\n",
    "data = np.loadtxt(\"simple_data.csv\", delimiter=',')\n",
    "#print(data)\n",
    "\n",
    "x_values = data[:,0] # Column 0 contains all x-values\n",
    "y_values = data[:,1] # Column 1 contains all y-values\n",
    "\n",
    "import matplotlib.pyplot as plt\n",
    "\n",
    "plt.plot(x_values, y_values)\n",
    "plt.show()"
   ]
  },
  {
   "cell_type": "markdown",
   "metadata": {},
   "source": [
    "### <font color=\"green\"> _Task 1: Load and manipulate data from a .csv file_ </font>\n",
    "\n",
    "1. Use NumPy's .loadtxt() routine to access the data stored in bitmap_data.csv and store it in a numpy array\n",
    "1. Get the shape of this array as seen above\n",
    "1. Loop through each row and column and check if each element is bigger or smaller than 150\n",
    "    - if the element is bigger or equal 150 set the element value to 1\n",
    "    - if the element is smaller than 150 set the value to 0\n",
    "<br>\n",
    "<br>\n",
    "1. Visualize the modified data using the following Code snippet: (Don't forget to import matplotlib!)\n",
    "```python\n",
    "plt.imshow(<Name of modified NumPy array>, cmap='binary_r')\n",
    "plt.show()\n",
    "```\n",
    "What do you see?"
   ]
  },
  {
   "cell_type": "code",
   "execution_count": null,
   "metadata": {},
   "outputs": [],
   "source": [
    "# Solution\n",
    "\n",
    "# load the bitmap data\n",
    "data = np.loadtxt(\"bitmap_data.csv\", delimiter=',')\n",
    "\n",
    "# show raw data\n",
    "plt.imshow(data, cmap='binary_r')\n",
    "plt.show()\n",
    "\n",
    "# classic way \n",
    "rows = data.shape[0]\n",
    "columns = data.shape[1]\n",
    "\n",
    "for i in range(0,rows):\n",
    "    for j in range(0,columns):\n",
    "        if data[i,j] >= 150:\n",
    "            data[i,j] = 1\n",
    "        else:\n",
    "            data[i,j] = 0\n",
    "\n",
    "plt.imshow(data, cmap='binary_r')\n",
    "plt.show()       \n",
    "\n",
    "# numpy way\n",
    "# relaod data\n",
    "data = np.loadtxt(\"bitmap_data.csv\", delimiter=',')\n",
    "\n",
    "mask = data >= 150\n",
    "\n",
    "data[~mask] = 0\n",
    "data[mask] = 1\n",
    "\n",
    "plt.imshow(data, cmap='binary_r')\n",
    "plt.show()"
   ]
  },
  {
   "cell_type": "markdown",
   "metadata": {},
   "source": [
    "### Data manipulation using NumPy routines\n",
    "\n",
    "#### Generate the derivation of a given set of data\n",
    "The NumPy routine \n",
    "```\n",
    "np.gradient(y)\n",
    "```\n",
    "generates the derivation of a given function (data).\n",
    "\n",
    "#### Smoothing via Moving-Average\n",
    "Moving average is a simple operation used usually to suppress noise of a signal: we set the value of each point to the average of the values in its neighborhood. With NumPy this is done using the \n",
    "```python\n",
    "np.convolve(y, np.ones((N,))/N), mode=\"same\")\n",
    "```\n",
    "routine.  \n",
    "The derivation and mathematics of this routine is described under the following link:  \n",
    "http://matlabtricks.com/post-11/moving-average-by-convolution"
   ]
  },
  {
   "cell_type": "code",
   "execution_count": null,
   "metadata": {},
   "outputs": [],
   "source": [
    "# Example Derivation\n",
    "import random\n",
    "\n",
    "x = np.linspace(0,20,100) # Generate an array with 100 elements from 0 to 20\n",
    "y = np.sin(x) # Calculate f(x) = sin(x)\n",
    "y2 = np.cos(x) # Calculate f2(x) = cos(x)\n",
    "\n",
    "dy = np.gradient(y,x) # Generate the derivation \n",
    "\n",
    "plt.plot(x,y) # f(x) \n",
    "plt.plot(x,y2) # f2(x)\n",
    "plt.plot(x,dy,':') # df(x) which should be the same as f2(x)\n",
    "plt.show()\n",
    "\n",
    "# Example Smoothing\n",
    "\n",
    "# Add noise to sin(x) using random numbers between -0.3 and 0.3\n",
    "y_noise = y\n",
    "for i in range(0,len(y_noise)):\n",
    "    y_noise[i] = y_noise[i] + random.uniform(-0.3,0.3)\n",
    "    \n",
    "    \n",
    "sm = np.convolve(y_noise, np.ones((5,))/5, mode='same') # Moving Average\n",
    "\n",
    "plt.plot(x,y_noise)\n",
    "plt.plot(x,sm)\n",
    "plt.show()\n",
    "\n"
   ]
  },
  {
   "cell_type": "markdown",
   "metadata": {},
   "source": [
    "#### Root finding\n",
    "Root finding in combination with a derivative is one way to find the turning points of a function.\n",
    "A root exists if the function value assumes the value 0 at any point. Since NumPy arrays do not have continuous values (there is always a step between two elements) it is possible that there is no exact 0 value. Therefore one has to check if there is a sign change between two elements. If a sign change occured the root is between those two elements.\n",
    "\n",
    "### <font color=\"green\"> _Task 2: RootFinding Alogorithm_ </font>\n",
    "\n",
    "1. Develop a function that implements the task described above.\n",
    "   Proceed as follows:\n",
    "    - The function should take two parameters x,y which are both two numpy arrays\n",
    "    - Create an empty list in which the results will be stored\n",
    "    - Loop through the y array and check if y[i] > 0 and y[i+1] < 0  or  y[i] < 0 and y[i+1] > 0\n",
    "    - If the condition is true use x[i] and x[i+1] two interpolate the value inbetween\n",
    "    - Return the result list"
   ]
  },
  {
   "cell_type": "code",
   "execution_count": null,
   "metadata": {},
   "outputs": [],
   "source": [
    "# Solution\n",
    "\n",
    "def root_finding(x,y):\n",
    "    root_list = [] \n",
    "    for i in range(0,len(y)-1):\n",
    "        if y[i] == 0:\n",
    "            root_list.append(x[i])\n",
    "        elif ((y[i] > 0 and y[i+1] < 0) or (y[i] < 0 and y[i+1] > 0)):\n",
    "            mid = (x[i] + x[i+1])/2\n",
    "            root_list.append(mid)\n",
    "    return root_list\n"
   ]
  },
  {
   "cell_type": "code",
   "execution_count": null,
   "metadata": {},
   "outputs": [],
   "source": [
    "# Check if your function works:\n",
    "\n",
    "x = np.linspace(0,20,1000)\n",
    "y = np.sin(x) \n",
    "\n",
    "roots = root_finding(x,y)\n",
    "roots_y = np.zeros_like(roots)\n",
    "\n",
    "print(roots)\n",
    "\n",
    "plt.plot(x, y)\n",
    "plt.scatter(roots, roots_y, color='red')\n"
   ]
  },
  {
   "cell_type": "markdown",
   "metadata": {},
   "source": [
    "### <font color=\"green\"> _Task 3: Data Analysis using NumPy_ </font>\n",
    "\n",
    "1. Use NumPy's .loadtxt() routine to access the data stored in abstand.dat and store it in a numpy array\n",
    "1. Plot column 0 against column 1 of the raw data\n",
    "1. Define a mask to focus the data only on the first oszilations (e.g. t in [10 s, 25 s]) and mask out values larger than 50\n",
    "1. Use NumPy's _.convolve_ routine to smooth the data\n",
    "1. Find the turning points (minima/maxima) of the masked data. Therefore compute the derivative in combination with the root_finding algorithm.\n",
    "1. Finally try to create the following plot:\n",
    "<br>\n",
    "<br>\n",
    "<img src=\"images/final_plot.png\" style=\"width:450px;\"/>"
   ]
  },
  {
   "cell_type": "code",
   "execution_count": null,
   "metadata": {},
   "outputs": [],
   "source": [
    "# Solution\n",
    "\n",
    "raw_data = np.loadtxt(\"distance_oszilator.dat\", delimiter=' ')\n",
    "\n",
    "# create mask and set filter conditions\n",
    "mask = np.ones(len(raw_data), dtype=bool)\n",
    "mask[np.where(raw_data[:,1] > 50)] = False\n",
    "mask[np.where((raw_data[:,0] > 25) | (raw_data[:,0] < 10))] = False\n",
    "\n",
    "# for convenience, define a new variable with the masked data\n",
    "data=raw_data[mask, :]\n",
    "\n",
    "x = data[:,0]\n",
    "y = data[:,1]\n",
    "\n",
    "plt.plot(x,y,':')\n",
    "\n",
    "# N defines the widht of the smooting window\n",
    "N = 11\n",
    "sm = np.convolve(y, np.ones((N,))/N, mode='valid')\n",
    "# the x values of the smoothed values are reduced by N points\n",
    "N2 = N//2\n",
    "sm_x = x[N2:-N2]\n",
    "plt.plot(sm_x,sm)\n",
    "\n",
    "plt.show()"
   ]
  },
  {
   "cell_type": "code",
   "execution_count": null,
   "metadata": {},
   "outputs": [],
   "source": [
    "# compute the derivative\n",
    "derivative = np.gradient(sm, sm_x)\n",
    "plt.plot(sm_x, derivative)\n",
    "# show the y=0 vicinity\n",
    "plt.ylim(-2, 2)"
   ]
  },
  {
   "cell_type": "code",
   "execution_count": null,
   "metadata": {},
   "outputs": [],
   "source": [
    "# find and print roots\n",
    "raw_roots = root_finding(sm_x, derivative)\n",
    "print(len(raw_roots), raw_roots)"
   ]
  },
  {
   "cell_type": "code",
   "execution_count": null,
   "metadata": {},
   "outputs": [],
   "source": [
    "# create a list of roots, which are separated by at least dx\n",
    "dx = 0.2\n",
    "\n",
    "roots = []\n",
    "for i in range(len(raw_roots)-1):\n",
    "    if raw_roots[i+1] - raw_roots[i] > dx:\n",
    "        roots.append(raw_roots[i])\n",
    "roots.append(raw_roots[-1])\n",
    "print(len(roots), roots)"
   ]
  },
  {
   "cell_type": "code",
   "execution_count": null,
   "metadata": {},
   "outputs": [],
   "source": [
    "# plot the distance of the roots\n",
    "distance_roots = []\n",
    "for i in range(len(roots)-1):\n",
    "    distance_roots.append(roots[i+1]-roots[i])\n",
    "plt.plot(distance_roots)"
   ]
  },
  {
   "cell_type": "code",
   "execution_count": null,
   "metadata": {},
   "outputs": [],
   "source": [
    "# interpolate the y-values of the extrema, i.e. roots of the derivative\n",
    "roots_y = np.interp(roots, sm_x, sm)\n",
    "plt.plot(x,y)\n",
    "plt.plot(sm_x, sm)\n",
    "plt.scatter(roots, roots_y, color='red', s=50)"
   ]
  },
  {
   "cell_type": "code",
   "execution_count": null,
   "metadata": {},
   "outputs": [],
   "source": [
    "fig = plt.figure(figsize=(10,10))\n",
    "plt.scatter(x,y, color='gray', s=25, label='experimental raw data')\n",
    "plt.plot(sm_x, sm, label='smoothed data')\n",
    "plt.scatter(roots, roots_y, color='red', s=50, label='extrema')\n",
    "plt.legend()\n",
    "plt.xlabel('time /s')\n",
    "plt.ylabel('height /cm')\n",
    "plt.savefig('final_plot.png', dpi=300, bbox_inches='tight')\n",
    "plt.show()"
   ]
  },
  {
   "cell_type": "code",
   "execution_count": null,
   "metadata": {},
   "outputs": [],
   "source": []
  }
 ],
 "metadata": {
  "kernelspec": {
   "display_name": "Python 3",
   "language": "python",
   "name": "python3"
  },
  "language_info": {
   "codemirror_mode": {
    "name": "ipython",
    "version": 3
   },
   "file_extension": ".py",
   "mimetype": "text/x-python",
   "name": "python",
   "nbconvert_exporter": "python",
   "pygments_lexer": "ipython3",
   "version": "3.7.3"
  }
 },
 "nbformat": 4,
 "nbformat_minor": 2
}
