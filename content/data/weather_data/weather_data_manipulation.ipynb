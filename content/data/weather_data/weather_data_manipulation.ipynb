{
 "cells": [
  {
   "cell_type": "code",
   "execution_count": 1,
   "metadata": {},
   "outputs": [],
   "source": [
    "import glob \n",
    "from datetime import datetime\n",
    "format = '%H:%M:%S'\n",
    "from IPython.display import clear_output"
   ]
  },
  {
   "cell_type": "code",
   "execution_count": 3,
   "metadata": {},
   "outputs": [
    {
     "name": "stdout",
     "output_type": "stream",
     "text": [
      "Wetterstation_Haspel_2018-11-21.log\n",
      "Wetterstation_Haspel_2018-11-11.log\n",
      "Wetterstation_Haspel_2018-11-09.log\n",
      "Wetterstation_Haspel_2018-11-17.log\n",
      "Wetterstation_Haspel_2018-11-12.log\n",
      "Wetterstation_Haspel_2018-11-20.log\n"
     ]
    }
   ],
   "source": [
    "for file in list(glob.glob('Wetterstation_Haspel_2018-11-??.log')): \n",
    "    print(file)\n",
    "\n",
    "    data_raw = open(file, 'rb')\n",
    "\n",
    "    date_check_0 = 0\n",
    "\n",
    "    for line in data_raw:\n",
    "        line_data = line.strip()\n",
    "        line_data = str(line_data).split(';')\n",
    "        if len(line_data) <= 2:\n",
    "            continue\n",
    "        date = line_data[0].replace('\"','').replace('b','').replace(\"'\",\"\")\n",
    "        time = line_data[1].replace('\"', '')\n",
    "        temp = line_data[-1].replace(',','.').replace(\"'\",\"\")\n",
    "\n",
    "        date_check_1 = date\n",
    "        if date_check_1 != date_check_0:\n",
    "            data_new = open(\"weather_per_day_raw/{}.log\".format(date.replace(\".\",\"_\")), 'a+')\n",
    "\n",
    "        line_data_new = date + \",\" + time + \",\" + temp + \"\\n\"\n",
    "        data_new.write(line_data_new)"
   ]
  },
  {
   "cell_type": "code",
   "execution_count": 6,
   "metadata": {},
   "outputs": [],
   "source": [
    "for file in list(glob.glob('weather_per_day_raw/*.log')):\n",
    "\n",
    "    print(file)\n",
    "    data = open(file, 'r')\n",
    "\n",
    "    data_matrix = []\n",
    "\n",
    "    for line in data:\n",
    "        line_data = line.split(',')\n",
    "        line_data = line.split(',')\n",
    "        td = line_data[1].split(':')\n",
    "        t_dec = (int(td[0])*3600+int(td[1])*60+int(td[2]))/3600\n",
    "        line_data.insert(2,t_dec)\n",
    "        data_matrix.append(line_data)\n",
    "\n",
    "    data_matrix_clean = [None] * len(data_matrix)  \n",
    "\n",
    "    for i in range(0,len(data_matrix)):\n",
    "        double = False\n",
    "        time_1 = datetime.strptime(data_matrix[i][1], format)\n",
    "\n",
    "        for k in range(i+1,len(data_matrix)):\n",
    "\n",
    "            time_2 = datetime.strptime(data_matrix[k][1], format)\n",
    "\n",
    "            if (time_1 == time_2):\n",
    "                double = True\n",
    "\n",
    "\n",
    "        if double != True:\n",
    "            data_matrix_clean[i] = data_matrix[i]\n",
    "\n",
    "        print(\"File {} -> Step {} / {}\".format(file,i,len(data_matrix)))\n",
    "        clear_output() \n",
    "        \n",
    "    file_path = file.split('.')\n",
    "    file_name = file_path[0].split('/')\n",
    "        \n",
    "    data_matrix_clean = list(filter(None, data_matrix_clean))    \n",
    "    with open(\"weather_per_day_clean/{}_temperature.log\".format(file_name[1]), 'w+') as f:\n",
    "        for k in range(0, len(data_matrix_clean)):\n",
    "            f.write(data_matrix_clean[k][0] + \",\" + data_matrix_clean[k][1] + \",{:.4f}\".format(data_matrix_clean[k][2]) + ',' + data_matrix_clean[k][3])\n",
    "    \n",
    "data.close()"
   ]
  },
  {
   "cell_type": "code",
   "execution_count": null,
   "metadata": {},
   "outputs": [],
   "source": []
  },
  {
   "cell_type": "code",
   "execution_count": null,
   "metadata": {},
   "outputs": [],
   "source": []
  }
 ],
 "metadata": {
  "kernelspec": {
   "display_name": "Python 3",
   "language": "python",
   "name": "python3"
  },
  "language_info": {
   "codemirror_mode": {
    "name": "ipython",
    "version": 3
   },
   "file_extension": ".py",
   "mimetype": "text/x-python",
   "name": "python",
   "nbconvert_exporter": "python",
   "pygments_lexer": "ipython3",
   "version": "3.6.7"
  }
 },
 "nbformat": 4,
 "nbformat_minor": 2
}
