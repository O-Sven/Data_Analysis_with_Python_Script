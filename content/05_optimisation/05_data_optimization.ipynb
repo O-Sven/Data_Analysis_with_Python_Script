{
 "cells": [
  {
   "cell_type": "markdown",
   "metadata": {},
   "source": [
    "<div style=\"width: 100%; overflow: hidden;\">\n",
    "    <div style=\"width: 500px; float: left;\"> \n",
    "        <h1>Data Analysis with Python</h1> <br>\n",
    "        <b>Winter Semester 2018/2019</b><br>\n",
    "        <b>Lukas Arnold and Max Böhler</b>\n",
    "    </div>\n",
    "    <div style=\"float:right;\"> \n",
    "        <img src=\"images/fzj_logo.png\" style=\"width:150px;\"/>\n",
    "        <img src=\"images/buw_logo.png\" style=\"width:150px;\"/>\n",
    "    </div>\n",
    "</div>"
   ]
  },
  {
   "cell_type": "markdown",
   "metadata": {},
   "source": [
    "Optimization is the process of selecting the best element (with regard to some criterion) from some set of available alternatives.  \n",
    "Measured data often contain noise, which makes the analysis of curve describing points (minima, maxima, turning points) complex. Therefore the aim of optimization is to find the best set of parameter that describes the given data and allows a simple analysing.\n",
    "<br>\n",
    "<br>\n",
    "When working on data optimization with Python, one should use the package _SciPy_. It is a library (package) which contains modules for optimazation like curvefitting, minimization, etc.\n",
    "<br>\n",
    "<br>\n",
    "\n",
    "Examples and more detailed instructions how to use _SciPy_ can be found here:\n",
    "https://docs.scipy.org/doc/scipy/reference/\n",
    "\n",
    "_Note: If SciPy is not yet installed on your system, open the Anaconda prompt (or terminal on Unix systems) and type:_\n",
    "\n",
    "`conda install scipy`"
   ]
  },
  {
   "cell_type": "markdown",
   "metadata": {},
   "source": [
    "### NumPy polyfit\n",
    "\n",
    "\"Polyfit\" is a _numpy_ function that computes a least squares polynomial for a given set of data. Polyfit actually generates the coefficients $(a_1, a_2, a_3, ... a_n)$ of the polynomial (which can be used to simulate a curve to fit the data) according to the degree $(n)$ specified. \n",
    "\n",
    "$p(x) = a_1*x^n + a_2*x^{(n-1)}+...+a_n$\n",
    "\n",
    "\"Polyval\" evaluates a polynomial for a given set of x values."
   ]
  },
  {
   "cell_type": "code",
   "execution_count": null,
   "metadata": {},
   "outputs": [],
   "source": [
    "import numpy as np\n",
    "import matplotlib.pyplot as plt\n",
    "\n",
    "x = np.linspace(-5,5, 100) # Generate 100 x-values from -5 to 5\n",
    "y = x**2 + 2*np.random.random(len(x)) # Create a parabola with noise\n",
    "\n",
    "plt.plot(x,y)\n",
    "plt.show()\n",
    "plt.close()"
   ]
  },
  {
   "cell_type": "code",
   "execution_count": null,
   "metadata": {},
   "outputs": [],
   "source": [
    "p = np.polyfit(x, y, 2) # Compute the polynomials. Since we try to fit a parabola, the degree for polyfit is 2.\n",
    "print(p)\n",
    "y_p = np.polyval(p, x) # Evaluate the fitting curve using polynomials from above\n",
    "\n",
    "plt.plot(x,y)\n",
    "plt.plot(x,y_p)\n",
    "\n",
    "poly_string = \"$y = {:.2f}*x^2 {:+.2f}*x {:+.2f}$\".format(p[0], p[1], p[2])\n",
    "plt.title(poly_string)\n",
    "\n",
    "plt.show()\n"
   ]
  },
  {
   "cell_type": "markdown",
   "metadata": {},
   "source": [
    "### SciPy Minimize\n",
    "\n",
    "Given data is often hard to describe using a polynomial function, which is why the polyfit function cannot be used. A common way to fit this kind of data is the so called _least-squares minimization curve fitting_ algorithm.\n",
    "<br>\n",
    "<br>\n",
    "\n",
    "The procedure is as follows:\n",
    "1. Define a parametrized model function\n",
    "1. Define a target function and calculate the Root Mean Squared Error between the model function and the given data\n",
    "1. Use _scipy.optimize.minimize_ for finding the parameters of the function which minimize the sum of squared errors (between model function and given data)"
   ]
  },
  {
   "cell_type": "code",
   "execution_count": null,
   "metadata": {},
   "outputs": [],
   "source": [
    "# Example\n",
    "x = np.linspace(0,50, 200) # Generate 200 x-values from 0 to 50\n",
    "y = 1/3*np.arctan(0.1*x) + 0.05*np.random.random(len(x)) # Create a non polynomial function -> arctan\n",
    "\n",
    "plt.plot(x,y)"
   ]
  },
  {
   "cell_type": "code",
   "execution_count": null,
   "metadata": {},
   "outputs": [],
   "source": [
    "# Step 1: Parametrized function\n",
    "\n",
    "def arctan(x, a1, a2):\n",
    "    return a1*np.arctan(a2*x)\n",
    "    "
   ]
  },
  {
   "cell_type": "code",
   "execution_count": null,
   "metadata": {},
   "outputs": [],
   "source": [
    "# Step 2: Target function\n",
    "\n",
    "def rmse(y1, y2): # Root Mean Squared Error\n",
    "    r = np.sqrt(np.sum((y1 - y2)**2))\n",
    "    return r\n",
    "\n",
    "def target_function(args):\n",
    "    global x,y\n",
    "    a1 = args[0]\n",
    "    a2 = args[1]\n",
    "    y1 = arctan(x, a1, a2)\n",
    "    r = rmse(y1, y)\n",
    "    return r"
   ]
  },
  {
   "cell_type": "code",
   "execution_count": null,
   "metadata": {},
   "outputs": [],
   "source": [
    "# Step 3: Minimize minimize the sum of squared errors\n",
    "\n",
    "import scipy.optimize as so\n",
    "\n",
    "x0 = [0.4,1.8] # Starting values\n",
    "res = so.minimize(target_function, x0)\n",
    "print(\"Parameter a1: {:.4f}; a2: {:.4f}\".format(res.x[0], res.x[1]))\n",
    "\n",
    "plt.plot(x,y)\n",
    "plt.plot(x,arctan(x, res.x[0], res.x[1]))"
   ]
  },
  {
   "cell_type": "markdown",
   "metadata": {},
   "source": [
    "### <font color=\"green\"> _Task 1: Curve fitting automatization_ </font>\n",
    "\n",
    "1. Use NumPy's .loadtxt() routine to access the data stored in data/simulation_00 and plot its content\n",
    "1. Define the model function which describes the given data\n",
    "1. Fit a curve using the least-squares minimization algorithm as seen in the example above and print out the optimized parameters\n",
    "\n",
    "1. Automate the algorithm so that all simulation files in the data folder are analysed"
   ]
  },
  {
   "cell_type": "code",
   "execution_count": null,
   "metadata": {},
   "outputs": [],
   "source": [
    "# Solution\n"
   ]
  },
  {
   "cell_type": "markdown",
   "metadata": {},
   "source": [
    "### <font color=\"green\"> _Task 2: Curve fitting of measured data_ </font>\n",
    "\n",
    "1. Use NumPy's .loadtxt() routine to access the data stored in distance_oszilator.dat\n",
    "1. Plot the data for x between 10 and 25 and hide all y-values > 40.\n",
    "1. Fit a curve using the least-squares minimization algorithm as seen in the example above and print out the optimized parameters\n",
    "\n",
    "_Remark: For the model function, use the following parameterized function:_  \n",
    "$a_1*e^{(-x*a_2)}*sin((x-a_3)*a_4) + a_5$  \n",
    "\n",
    "(Damped oszilator)"
   ]
  },
  {
   "cell_type": "code",
   "execution_count": null,
   "metadata": {},
   "outputs": [],
   "source": [
    "# Solution\n"
   ]
  },
  {
   "cell_type": "markdown",
   "metadata": {},
   "source": [
    "### <font color=\"green\"> _Task 3: Curve Fitting by a Sum of Gaussians_ </font>\n",
    "\n",
    "This examples illustrates the automated identification of chemical reactions, here pyrolysis, in a TGA (thermogravimetirc analysis) experiment.\n",
    "\n",
    "1. Use NumPy's .loadtxt() routine to access the data stored in PMMA_kompakt_40K.csv\n",
    "1. Plot column 0 against column 1\n",
    "1. Use the least-squares minimization algorithm to fit a curve to the given data\n",
    "<br>\n",
    "\n",
    "_Hints:_\n",
    "- Use the Gaussian function as a model for this problem $y = A\\exp{\\left(-\\dfrac{(x-x_0)^2}{d^2}\\right)}$\n",
    "- As you can see, the given dataset consists of several Gauss functions. Therefore you should modify the algorithm so that not a single Gaussian function is optimized, but the sum of 4 Gaussian functions.(Modify the traget_function)"
   ]
  },
  {
   "cell_type": "code",
   "execution_count": null,
   "metadata": {},
   "outputs": [],
   "source": [
    "# Solution\n"
   ]
  }
 ],
 "metadata": {
  "kernelspec": {
   "display_name": "Python 3",
   "language": "python",
   "name": "python3"
  },
  "language_info": {
   "codemirror_mode": {
    "name": "ipython",
    "version": 3
   },
   "file_extension": ".py",
   "mimetype": "text/x-python",
   "name": "python",
   "nbconvert_exporter": "python",
   "pygments_lexer": "ipython3",
   "version": "3.6.7"
  }
 },
 "nbformat": 4,
 "nbformat_minor": 2
}
